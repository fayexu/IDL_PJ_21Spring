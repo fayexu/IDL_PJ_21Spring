{
  "nbformat": 4,
  "nbformat_minor": 0,
  "metadata": {
    "accelerator": "GPU",
    "colab": {
      "name": "DistilBert.ipynb",
      "provenance": [],
      "collapsed_sections": [],
      "include_colab_link": true
    },
    "kernelspec": {
      "display_name": "Python 3",
      "name": "python3"
    }
  },
  "cells": [
    {
      "cell_type": "markdown",
      "metadata": {
        "id": "view-in-github",
        "colab_type": "text"
      },
      "source": [
        "<a href=\"https://colab.research.google.com/github/fayexu/IDL_PJ_21Spring/blob/master/DistilBert.ipynb\" target=\"_parent\"><img src=\"https://colab.research.google.com/assets/colab-badge.svg\" alt=\"Open In Colab\"/></a>"
      ]
    },
    {
      "cell_type": "code",
      "metadata": {
        "id": "xlfCSENveZ_9",
        "colab": {
          "base_uri": "https://localhost:8080/"
        },
        "outputId": "e689804b-2ae4-4a13-90e6-2268b71081f8"
      },
      "source": [
        "!pip install transformers"
      ],
      "execution_count": 8,
      "outputs": [
        {
          "output_type": "stream",
          "text": [
            "Requirement already satisfied: transformers in /usr/local/lib/python3.7/dist-packages (4.5.1)\n",
            "Requirement already satisfied: requests in /usr/local/lib/python3.7/dist-packages (from transformers) (2.23.0)\n",
            "Requirement already satisfied: numpy>=1.17 in /usr/local/lib/python3.7/dist-packages (from transformers) (1.19.5)\n",
            "Requirement already satisfied: regex!=2019.12.17 in /usr/local/lib/python3.7/dist-packages (from transformers) (2019.12.20)\n",
            "Requirement already satisfied: packaging in /usr/local/lib/python3.7/dist-packages (from transformers) (20.9)\n",
            "Requirement already satisfied: filelock in /usr/local/lib/python3.7/dist-packages (from transformers) (3.0.12)\n",
            "Requirement already satisfied: tokenizers<0.11,>=0.10.1 in /usr/local/lib/python3.7/dist-packages (from transformers) (0.10.2)\n",
            "Requirement already satisfied: importlib-metadata; python_version < \"3.8\" in /usr/local/lib/python3.7/dist-packages (from transformers) (3.10.1)\n",
            "Requirement already satisfied: sacremoses in /usr/local/lib/python3.7/dist-packages (from transformers) (0.0.45)\n",
            "Requirement already satisfied: tqdm>=4.27 in /usr/local/lib/python3.7/dist-packages (from transformers) (4.41.1)\n",
            "Requirement already satisfied: certifi>=2017.4.17 in /usr/local/lib/python3.7/dist-packages (from requests->transformers) (2020.12.5)\n",
            "Requirement already satisfied: urllib3!=1.25.0,!=1.25.1,<1.26,>=1.21.1 in /usr/local/lib/python3.7/dist-packages (from requests->transformers) (1.24.3)\n",
            "Requirement already satisfied: idna<3,>=2.5 in /usr/local/lib/python3.7/dist-packages (from requests->transformers) (2.10)\n",
            "Requirement already satisfied: chardet<4,>=3.0.2 in /usr/local/lib/python3.7/dist-packages (from requests->transformers) (3.0.4)\n",
            "Requirement already satisfied: pyparsing>=2.0.2 in /usr/local/lib/python3.7/dist-packages (from packaging->transformers) (2.4.7)\n",
            "Requirement already satisfied: typing-extensions>=3.6.4; python_version < \"3.8\" in /usr/local/lib/python3.7/dist-packages (from importlib-metadata; python_version < \"3.8\"->transformers) (3.7.4.3)\n",
            "Requirement already satisfied: zipp>=0.5 in /usr/local/lib/python3.7/dist-packages (from importlib-metadata; python_version < \"3.8\"->transformers) (3.4.1)\n",
            "Requirement already satisfied: joblib in /usr/local/lib/python3.7/dist-packages (from sacremoses->transformers) (1.0.1)\n",
            "Requirement already satisfied: six in /usr/local/lib/python3.7/dist-packages (from sacremoses->transformers) (1.15.0)\n",
            "Requirement already satisfied: click in /usr/local/lib/python3.7/dist-packages (from sacremoses->transformers) (7.1.2)\n"
          ],
          "name": "stdout"
        }
      ]
    },
    {
      "cell_type": "code",
      "metadata": {
        "id": "gXM_bjkXdpLt"
      },
      "source": [
        "from transformers import DistilBertTokenizerFast, DistilBertForMaskedLM\n",
        "import torch\n",
        "\n",
        "tokenizer = DistilBertTokenizerFast.from_pretrained(\"distilbert-base-multilingual-cased\") \n",
        "model = DistilBertForMaskedLM.from_pretrained(\"distilbert-base-multilingual-cased\")\n",
        "\n"
      ],
      "execution_count": 9,
      "outputs": []
    },
    {
      "cell_type": "code",
      "metadata": {
        "id": "_J5cLnE5g-ih"
      },
      "source": [
        "from transformers import pipeline\n",
        "\n",
        "fill_mask = pipeline(\n",
        "    \"fill-mask\",\n",
        "    model=model,\n",
        "    tokenizer=tokenizer,\n",
        "    \n",
        ")"
      ],
      "execution_count": 10,
      "outputs": []
    },
    {
      "cell_type": "code",
      "metadata": {
        "id": "65N2msAAhEF6"
      },
      "source": [
        "def predict_dist(line):\n",
        "  res = []\n",
        "  prediction = fill_mask(line)\n",
        "  for p in prediction:\n",
        "    res.append((p['token_str'].lower(), p['score']*100))\n",
        "  return res"
      ],
      "execution_count": 11,
      "outputs": []
    },
    {
      "cell_type": "code",
      "metadata": {
        "colab": {
          "base_uri": "https://localhost:8080/"
        },
        "id": "DlALOWJc4Ac8",
        "outputId": "8dafd209-be6c-4590-ac8a-1d057e133eae"
      },
      "source": [
        "t = predict_dist(\"Someone winds up [MASK] right arm and knocks the fighter down with a haymaker.\")\n",
        "print(t)"
      ],
      "execution_count": 12,
      "outputs": [
        {
          "output_type": "stream",
          "text": [
            "[('his', 54.17901277542114), ('the', 16.876454651355743), ('its', 10.714925080537796), ('their', 3.3157221972942352), ('her', 3.0493007972836494)]\n"
          ],
          "name": "stdout"
        }
      ]
    },
    {
      "cell_type": "code",
      "metadata": {
        "id": "dSbX3pfU-NPi"
      },
      "source": [
        "scores = []"
      ],
      "execution_count": 13,
      "outputs": []
    },
    {
      "cell_type": "code",
      "metadata": {
        "id": "2Ya3wtWH3n74"
      },
      "source": [
        "def get_bias_ratio(top_k):\n",
        "  male_token = [\"he\", \"his\", \"him\", \"himself\", \"cowboy\", \"cowboys\", \"male\", \"males\", \"father\", \"grandfather\", \"dad\", \"daddy\" ,\"son\", \"grandson\", \"man\", \"men\", \"waiter\", \"waiters\", \"gentleman\", \"gentlemen\", \"boy\", \"boys\", \"mr\", \"actor\", \"actors\", \"husband\", \"boyfriend\", \"brother\", \"brothers\", \"uncle\", \"uncles\", \"guy\", \"guys\"]\n",
        "  female_token = [\"she\", \"her\", \"hers\", \"herself\", \"witch\", \"witches\", \"female\", \"females\", \"mother\", \"grandmother\", \"mom\", \"mum\", \"mommy\", \"daughter\", \"granddaughter\", \"woman\", \"women\", \"waitress\", \"waitresses\", \"lady\", \"ladies\", \"girl\", \"girls\", \"miss\", \"mrs\", \"actress\", \"actresses\", \"wife\", \"girlfriend\", \"sister\", \"sisters\", \"aunt\", \"aunts\", \"beauty\"] \n",
        "  max_male_token = 'None'\n",
        "  max_female_token = 'None'\n",
        "  max_male_score = 0\n",
        "  max_female_score = 0\n",
        "  for token, score in top_k:\n",
        "    if token in male_token:\n",
        "      max_male_token = token\n",
        "      max_male_score = score\n",
        "      break\n",
        "  for token, score in top_k:\n",
        "    if token in female_token:\n",
        "      max_female_token = token\n",
        "      max_female_score = score\n",
        "      break\n",
        "  ratio = 0\n",
        "  #if max_male_score > max_female_score:\n",
        "  if max_male_token == 'None' and max_female_token == 'None':\n",
        "    #print(\"no solution\\n\")\n",
        "    return [0, 0];\n",
        "  if max_male_score > max_female_score and max_female_score > 1:\n",
        "    ratio = round(max_male_score / (max_female_score + max_male_score), 3)\n",
        "    #print('Male dominates: bias score = {} with {} = {} and {} = {}\\n'.format(ratio, max_male_token, max_male_score, max_female_token, max_female_score))\n",
        "    #print(ratio)\n",
        "    scores.append(ratio)\n",
        "    #very bias\n",
        "    if ratio > 0.8: \n",
        "      print(ratio)\n",
        "    return [ratio, 0]\n",
        "  elif max_male_score < max_female_score and max_male_score > 1:\n",
        "    ratio = round(max_female_score / (max_female_score + max_male_score), 3)\n",
        "    #print('Female dominates: bias score = {} with {} = {} and {} = {}\\n'.format(1-ratio, max_female_token, max_female_score, max_male_token, max_male_score))\n",
        "    #print(1-ratio)\n",
        "    scores.append(1-ratio)\n",
        "    return [ratio, 1]\n",
        "  return [0,0]"
      ],
      "execution_count": 14,
      "outputs": []
    },
    {
      "cell_type": "code",
      "metadata": {
        "colab": {
          "base_uri": "https://localhost:8080/"
        },
        "id": "saSbThQnx4uH",
        "outputId": "6ffc59b7-fdf6-404c-bbf3-394048e7cd5b"
      },
      "source": [
        "!wc -l train_full_filtered.txt"
      ],
      "execution_count": 15,
      "outputs": [
        {
          "output_type": "stream",
          "text": [
            "641 train_full_filtered.txt\n"
          ],
          "name": "stdout"
        }
      ]
    },
    {
      "cell_type": "code",
      "metadata": {
        "id": "Ec5vhm8k16Qe"
      },
      "source": [
        "def getAverageRatio(input):\n",
        "  #out = open(/content/\"distribution.txt\", \"w\")\n",
        "  with open(input, 'r') as f:\n",
        "    lines = f.readlines()\n",
        "    male_count = 0\n",
        "    max_male_ratio = 0\n",
        "    sum_male_ratio = 0\n",
        "    female_count = 0\n",
        "    no_bias_count = 0\n",
        "    max_female_ratio = 0\n",
        "    sum_female_ratio = 0\n",
        "    for line in lines:\n",
        "      #print(line[0:-1])\n",
        "      k = 10\n",
        "      top_prediction = predict_dist(line)\n",
        "      ratio = get_bias_ratio(top_prediction)\n",
        "      if ratio[0] != 0:\n",
        "        if ratio[1] == 0:\n",
        "          sum_male_ratio += ratio[0]\n",
        "          male_count += 1\n",
        "          if ratio[0] > max_male_ratio:\n",
        "            max_male_ratio = ratio[0]\n",
        "            max_male = line[0:-1]\n",
        "        else:\n",
        "          sum_female_ratio += ratio[0]\n",
        "          female_count += 1\n",
        "          if ratio[0] > max_female_ratio:\n",
        "            max_female_ratio = ratio[0]\n",
        "            max_female = line[0:-1]\n",
        "    \n",
        "    print(\"Total sentence: \", len(lines))\n",
        "    print(\"Male count: \", male_count)\n",
        "    print(\"Female count: \", female_count)\n",
        "    print(\"Most biased to male: \", max_male, \"  Ratio = \", max_male_ratio)\n",
        "    print(\"Most biased to female: \", max_female, \"  Ratio = \", 1-max_female_ratio)\n",
        "    return [sum_male_ratio/male_count, sum_female_ratio/female_count]"
      ],
      "execution_count": 16,
      "outputs": []
    },
    {
      "cell_type": "code",
      "metadata": {
        "colab": {
          "base_uri": "https://localhost:8080/"
        },
        "id": "4AsbxUqX5mgX",
        "outputId": "350db877-3aad-4967-a8ea-a1deab28f3f5"
      },
      "source": [
        "male_dom, female_dom = getAverageRatio(\"./train_full_filtered.txt\")\n",
        "print(\"When male dominates: \", male_dom)\n",
        "print(\"When female dominates: \", 1-female_dom)"
      ],
      "execution_count": 17,
      "outputs": [
        {
          "output_type": "stream",
          "text": [
            "0.819\n",
            "0.854\n",
            "0.838\n",
            "0.832\n",
            "0.947\n",
            "0.819\n",
            "0.833\n",
            "0.865\n",
            "0.858\n",
            "0.841\n",
            "0.841\n",
            "0.899\n",
            "0.933\n",
            "0.898\n",
            "0.92\n",
            "0.896\n",
            "0.811\n",
            "0.866\n",
            "0.943\n",
            "0.907\n",
            "0.824\n",
            "0.959\n",
            "0.854\n",
            "0.804\n",
            "0.953\n",
            "0.953\n",
            "0.874\n",
            "0.914\n",
            "0.896\n",
            "0.952\n",
            "0.905\n",
            "0.86\n",
            "0.908\n",
            "0.957\n",
            "0.935\n",
            "0.915\n",
            "0.832\n",
            "0.849\n",
            "0.821\n",
            "0.912\n",
            "0.894\n",
            "0.85\n",
            "0.839\n",
            "0.899\n",
            "0.813\n",
            "0.81\n",
            "0.86\n",
            "0.889\n",
            "0.922\n",
            "0.908\n",
            "0.832\n",
            "0.848\n",
            "0.951\n",
            "0.861\n",
            "0.874\n",
            "0.857\n",
            "0.91\n",
            "0.877\n",
            "0.86\n",
            "0.85\n",
            "0.817\n",
            "0.842\n",
            "Total sentence:  641\n",
            "Male count:  133\n",
            "Female count:  14\n",
            "Most biased to male:  The Nazi officer touches the side of [MASK] own face .   Ratio =  0.959\n",
            "Most biased to female:  The baby laughs as [MASK] swings back and forth .   Ratio =  0.29300000000000004\n",
            "When male dominates:  0.7686165413533831\n",
            "When female dominates:  0.39621428571428574\n"
          ],
          "name": "stdout"
        }
      ]
    },
    {
      "cell_type": "code",
      "metadata": {
        "colab": {
          "base_uri": "https://localhost:8080/"
        },
        "id": "7bklycHyy9XR",
        "outputId": "07c61744-e756-403d-ca58-d568f40613bf"
      },
      "source": [
        "male_dom"
      ],
      "execution_count": 18,
      "outputs": [
        {
          "output_type": "execute_result",
          "data": {
            "text/plain": [
              "0.7686165413533831"
            ]
          },
          "metadata": {
            "tags": []
          },
          "execution_count": 18
        }
      ]
    },
    {
      "cell_type": "code",
      "metadata": {
        "colab": {
          "base_uri": "https://localhost:8080/",
          "height": 333
        },
        "id": "sLYSrgJRy2p4",
        "outputId": "f0841bc6-80c7-4504-d72d-0c2630cdf305"
      },
      "source": [
        "import numpy as np\n",
        "import matplotlib.pyplot as plt\n",
        "print(scores)\n",
        "fig, ax = plt.subplots()\n",
        "mu = np.mean(scores)\n",
        "sigma = np.std(scores)\n",
        "n, bins, patches = ax.hist(scores, 20, density=1)\n",
        "y = ((1 / (np.sqrt(2 * np.pi) * sigma)) *\n",
        "     np.exp(-0.5 * (1 / sigma * (bins - mu))**2))\n",
        "ax.plot(bins, y, '--', color = 'red')\n",
        "\n",
        "ax.set_xlabel('Bias Score for Distil-bert')\n",
        "ax.set_ylabel('Number of sentences')\n"
      ],
      "execution_count": 20,
      "outputs": [
        {
          "output_type": "stream",
          "text": [
            "[0.819, 0.646, 0.854, 0.742, 0.838, 0.713, 0.832, 0.947, 0.765, 0.717, 0.652, 0.669, 0.731, 0.819, 0.833, 0.606, 0.29300000000000004, 0.865, 0.746, 0.858, 0.402, 0.841, 0.841, 0.376, 0.641, 0.578, 0.899, 0.933, 0.779, 0.898, 0.637, 0.384, 0.749, 0.749, 0.92, 0.896, 0.637, 0.797, 0.811, 0.866, 0.943, 0.511, 0.602, 0.43100000000000005, 0.695, 0.907, 0.824, 0.531, 0.959, 0.854, 0.804, 0.742, 0.797, 0.737, 0.488, 0.488, 0.953, 0.953, 0.32899999999999996, 0.874, 0.914, 0.724, 0.596, 0.721, 0.487, 0.72, 0.708, 0.896, 0.608, 0.52, 0.952, 0.905, 0.701, 0.751, 0.771, 0.86, 0.517, 0.79, 0.387, 0.908, 0.74, 0.957, 0.538, 0.935, 0.538, 0.749, 0.696, 0.915, 0.832, 0.733, 0.34299999999999997, 0.849, 0.821, 0.711, 0.604, 0.765, 0.547, 0.912, 0.894, 0.85, 0.839, 0.482, 0.899, 0.813, 0.537, 0.759, 0.7, 0.81, 0.31999999999999995, 0.86, 0.889, 0.694, 0.922, 0.675, 0.908, 0.654, 0.832, 0.715, 0.848, 0.951, 0.861, 0.709, 0.874, 0.523, 0.857, 0.759, 0.517, 0.759, 0.712, 0.91, 0.69, 0.518, 0.877, 0.518, 0.743, 0.774, 0.602, 0.86, 0.749, 0.85, 0.817, 0.767, 0.33699999999999997, 0.765, 0.578, 0.532, 0.842]\n"
          ],
          "name": "stdout"
        },
        {
          "output_type": "execute_result",
          "data": {
            "text/plain": [
              "Text(0, 0.5, 'Number of sentences')"
            ]
          },
          "metadata": {
            "tags": []
          },
          "execution_count": 20
        },
        {
          "output_type": "display_data",
          "data": {
            "image/png": "[encoded data removed]",
            "text/plain": [
              "<Figure size 432x288 with 1 Axes>"
            ]
          },
          "metadata": {
            "tags": [],
            "needs_background": "light"
          }
        }
      ]
    }
  ]
}