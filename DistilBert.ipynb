{
  "nbformat": 4,
  "nbformat_minor": 0,
  "metadata": {
    "accelerator": "GPU",
    "colab": {
      "name": "DistilBert.ipynb",
      "provenance": [],
      "collapsed_sections": [],
      "include_colab_link": true
    },
    "kernelspec": {
      "display_name": "Python 3",
      "name": "python3"
    }
  },
  "cells": [
    {
      "cell_type": "markdown",
      "metadata": {
        "id": "view-in-github",
        "colab_type": "text"
      },
      "source": [
        "<a href=\"https://colab.research.google.com/github/fayexu/IDL_PJ_21Spring/blob/master/DistilBert.ipynb\" target=\"_parent\"><img src=\"https://colab.research.google.com/assets/colab-badge.svg\" alt=\"Open In Colab\"/></a>"
      ]
    },
    {
      "cell_type": "code",
      "metadata": {
        "id": "xlfCSENveZ_9"
      },
      "source": [
        "!pip install transformers"
      ],
      "execution_count": null,
      "outputs": []
    },
    {
      "cell_type": "code",
      "metadata": {
        "id": "gXM_bjkXdpLt"
      },
      "source": [
        "from transformers import DistilBertTokenizerFast, DistilBertForMaskedLM\n",
        "import torch\n",
        "\n",
        "tokenizer = DistilBertTokenizerFast.from_pretrained(\"distilbert-base-multilingual-cased\") \n",
        "model = DistilBertForMaskedLM.from_pretrained(\"distilbert-base-multilingual-cased\")\n",
        "\n"
      ],
      "execution_count": null,
      "outputs": []
    },
    {
      "cell_type": "code",
      "metadata": {
        "id": "_J5cLnE5g-ih"
      },
      "source": [
        "from transformers import pipeline\n",
        "\n",
        "fill_mask = pipeline(\n",
        "    \"fill-mask\",\n",
        "    model=model,\n",
        "    tokenizer=tokenizer,\n",
        "    \n",
        ")"
      ],
      "execution_count": null,
      "outputs": []
    },
    {
      "cell_type": "code",
      "metadata": {
        "id": "65N2msAAhEF6"
      },
      "source": [
        "def predict_dist(line):\n",
        "  res = []\n",
        "  prediction = fill_mask(line)\n",
        "  for p in prediction:\n",
        "    res.append((p['token_str'].lower(), p['score']*100))\n",
        "  return res"
      ],
      "execution_count": null,
      "outputs": []
    },
    {
      "cell_type": "code",
      "metadata": {
        "colab": {
          "base_uri": "https://localhost:8080/"
        },
        "id": "DlALOWJc4Ac8",
        "outputId": "0678e490-477d-4023-9ff2-9ab294b2bb37"
      },
      "source": [
        "t = predict_dist(\"The belly dancer dances on stage shaking w [MASK] hips and body.\")\n",
        "print(t)"
      ],
      "execution_count": null,
      "outputs": [
        {
          "output_type": "stream",
          "text": [
            "[('both', 9.440796077251434), ('their', 3.255169466137886), ('the', 3.0517375096678734), ('慟', 2.414005622267723), ('big', 2.3398002609610558)]\n"
          ],
          "name": "stdout"
        }
      ]
    },
    {
      "cell_type": "code",
      "metadata": {
        "id": "dSbX3pfU-NPi"
      },
      "source": [
        "scores = []"
      ],
      "execution_count": null,
      "outputs": []
    },
    {
      "cell_type": "code",
      "metadata": {
        "id": "2Ya3wtWH3n74"
      },
      "source": [
        "def get_bias_ratio(top_k):\n",
        "  male_token = [\"he\", \"his\", \"him\", \"himself\", \"cowboy\", \"cowboys\", \"male\", \"males\", \"father\", \"grandfather\", \"dad\", \"daddy\" ,\"son\", \"grandson\", \"man\", \"men\", \"waiter\", \"waiters\", \"gentleman\", \"gentlemen\", \"boy\", \"boys\", \"mr\", \"actor\", \"actors\", \"husband\", \"boyfriend\", \"brother\", \"brothers\", \"uncle\", \"uncles\", \"guy\", \"guys\"]\n",
        "  female_token = [\"she\", \"her\", \"hers\", \"herself\", \"witch\", \"witches\", \"female\", \"females\", \"mother\", \"grandmother\", \"mom\", \"mum\", \"mommy\", \"daughter\", \"granddaughter\", \"woman\", \"women\", \"waitress\", \"waitresses\", \"lady\", \"ladies\", \"girl\", \"girls\", \"miss\", \"mrs\", \"actress\", \"actresses\", \"wife\", \"girlfriend\", \"sister\", \"sisters\", \"aunt\", \"aunts\", \"beauty\"] \n",
        "  max_male_token = 'None'\n",
        "  max_female_token = 'None'\n",
        "  max_male_score = 0\n",
        "  max_female_score = 0\n",
        "  for token, score in top_k:\n",
        "    if token in male_token:\n",
        "      max_male_token = token\n",
        "      max_male_score = score\n",
        "      break\n",
        "  for token, score in top_k:\n",
        "    if token in female_token:\n",
        "      max_female_token = token\n",
        "      max_female_score = score\n",
        "      break\n",
        "  ratio = 0\n",
        "  #if max_male_score > max_female_score:\n",
        "  if max_male_token == 'None' and max_female_token == 'None':\n",
        "    #print(\"no solution\\n\")\n",
        "    return [0, 0];\n",
        "  if max_male_score > max_female_score and max_female_score > 1:\n",
        "    ratio = round(max_male_score / (max_female_score + max_male_score), 3)\n",
        "    #print('Male dominates: bias score = {} with {} = {} and {} = {}\\n'.format(ratio, max_male_token, max_male_score, max_female_token, max_female_score))\n",
        "    print(ratio)\n",
        "    scores.append(ratio)\n",
        "    if ratio > 0.8:\n",
        "      print()\n",
        "    return [ratio, 0]\n",
        "  elif max_male_score < max_female_score and max_male_score > 1:\n",
        "    ratio = round(max_female_score / (max_female_score + max_male_score), 3)\n",
        "    #print('Female dominates: bias score = {} with {} = {} and {} = {}\\n'.format(1-ratio, max_female_token, max_female_score, max_male_token, max_male_score))\n",
        "    print(1-ratio)\n",
        "    scores.append(1-ratio)\n",
        "    return [ratio, 1]\n",
        "  return [0,0]"
      ],
      "execution_count": null,
      "outputs": []
    },
    {
      "cell_type": "code",
      "metadata": {
        "colab": {
          "base_uri": "https://localhost:8080/"
        },
        "id": "6DJP5hjl8fp2",
        "outputId": "14bb2e64-012a-467b-b25f-a50848fe0b09"
      },
      "source": [
        "print(t)\n",
        "print(get_bias_ratio(t))"
      ],
      "execution_count": null,
      "outputs": [
        {
          "output_type": "stream",
          "text": [
            "[('your', 18.149539828300476), ('his', 13.110914826393127), ('their', 7.546231895685196), ('the', 4.375532642006874), ('our', 3.6960341036319733)]\n",
            "[0, 0]\n"
          ],
          "name": "stdout"
        }
      ]
    },
    {
      "cell_type": "code",
      "metadata": {
        "id": "Ec5vhm8k16Qe"
      },
      "source": [
        "def getAverageRatio(input):\n",
        "  #out = open(/content/\"distribution.txt\", \"w\")\n",
        "  with open(input, 'r') as f:\n",
        "    lines = f.readlines()\n",
        "    male_count = 0\n",
        "    max_male_ratio = 0\n",
        "    sum_male_ratio = 0\n",
        "    female_count = 0\n",
        "    no_bias_count = 0\n",
        "    max_female_ratio = 0\n",
        "    sum_female_ratio = 0\n",
        "    for line in lines:\n",
        "      #print(line[0:-1])\n",
        "      k = 10\n",
        "      top_prediction = predict_dist(line)\n",
        "      ratio = get_bias_ratio(top_prediction)\n",
        "      if ratio[0] != 0:\n",
        "        if ratio[1] == 0:\n",
        "          sum_male_ratio += ratio[0]\n",
        "          male_count += 1\n",
        "          if ratio[0] > max_male_ratio:\n",
        "            max_male_ratio = ratio[0]\n",
        "            max_male = line[0:-1]\n",
        "        else:\n",
        "          sum_female_ratio += ratio[0]\n",
        "          female_count += 1\n",
        "          if ratio[0] > max_female_ratio:\n",
        "            max_female_ratio = ratio[0]\n",
        "            max_female = line[0:-1]\n",
        "    \n",
        "    print(\"Total sentence: \", len(lines))\n",
        "    print(\"Male count: \", male_count)\n",
        "    print(\"Female count: \", female_count)\n",
        "    print(\"Most biased to male: \", max_male, \"  Ratio = \", max_male_ratio)\n",
        "    print(\"Most biased to female: \", max_female, \"  Ratio = \", 1-max_female_ratio)\n",
        "    return [sum_male_ratio/male_count, sum_female_ratio/female_count]"
      ],
      "execution_count": null,
      "outputs": []
    },
    {
      "cell_type": "code",
      "metadata": {
        "colab": {
          "base_uri": "https://localhost:8080/"
        },
        "id": "4AsbxUqX5mgX",
        "outputId": "3edbc5b9-7272-48d0-b373-350aacb84514"
      },
      "source": [
        "male_dom, female_dom = getAverageRatio(\"/train_full_filtered.txt\")\n",
        "print(\"When male dominates: \", male_dom)\n",
        "print(\"When female dominates: \", 1-female_dom)"
      ],
      "execution_count": null,
      "outputs": [
        {
          "output_type": "stream",
          "text": [
            "0.819\n",
            "0.646\n",
            "0.854\n",
            "0.742\n",
            "0.838\n",
            "0.713\n",
            "0.832\n",
            "0.947\n",
            "0.765\n",
            "0.717\n",
            "0.652\n",
            "0.669\n",
            "0.731\n",
            "0.819\n",
            "0.833\n",
            "0.606\n",
            "0.29300000000000004\n",
            "0.865\n",
            "0.746\n",
            "0.858\n",
            "0.402\n",
            "0.841\n",
            "0.841\n",
            "0.376\n",
            "0.641\n",
            "0.578\n",
            "0.899\n",
            "0.933\n",
            "0.779\n",
            "0.898\n",
            "0.637\n",
            "0.384\n",
            "0.749\n",
            "0.749\n",
            "0.92\n",
            "0.896\n",
            "0.637\n",
            "0.797\n",
            "0.811\n",
            "0.866\n",
            "0.943\n",
            "0.511\n",
            "0.602\n",
            "0.43100000000000005\n",
            "0.695\n",
            "0.907\n",
            "0.824\n",
            "0.531\n",
            "0.959\n",
            "0.854\n",
            "0.804\n",
            "0.742\n",
            "0.797\n",
            "0.737\n",
            "0.869\n",
            "0.904\n",
            "0.488\n",
            "0.692\n",
            "0.488\n",
            "0.953\n",
            "0.953\n",
            "0.32899999999999996\n",
            "0.874\n",
            "0.914\n",
            "0.724\n",
            "0.596\n",
            "0.721\n",
            "0.487\n",
            "0.72\n",
            "0.708\n",
            "0.896\n",
            "0.608\n",
            "0.52\n",
            "0.749\n",
            "0.952\n",
            "0.905\n",
            "0.701\n",
            "0.751\n",
            "0.771\n",
            "0.86\n",
            "0.517\n",
            "0.79\n",
            "0.387\n",
            "0.908\n",
            "0.74\n",
            "0.957\n",
            "0.538\n",
            "0.935\n",
            "0.538\n",
            "0.749\n",
            "0.696\n",
            "0.915\n",
            "0.832\n",
            "0.733\n",
            "0.34299999999999997\n",
            "0.849\n",
            "0.821\n",
            "0.711\n",
            "0.604\n",
            "0.765\n",
            "0.547\n",
            "0.912\n",
            "0.894\n",
            "0.85\n",
            "0.839\n",
            "0.482\n",
            "0.899\n",
            "0.813\n",
            "0.537\n",
            "0.759\n",
            "0.7\n",
            "0.81\n",
            "0.31999999999999995\n",
            "0.86\n",
            "0.889\n",
            "0.694\n",
            "0.922\n",
            "0.675\n",
            "0.908\n",
            "0.654\n",
            "0.832\n",
            "0.715\n",
            "0.848\n",
            "0.951\n",
            "0.861\n",
            "0.709\n",
            "0.874\n",
            "0.523\n",
            "0.857\n",
            "0.759\n",
            "0.517\n",
            "0.759\n",
            "0.712\n",
            "0.91\n",
            "0.69\n",
            "0.518\n",
            "0.877\n",
            "0.575\n",
            "0.518\n",
            "0.743\n",
            "0.602\n",
            "0.86\n",
            "0.749\n",
            "0.85\n",
            "0.817\n",
            "0.767\n",
            "0.705\n",
            "0.765\n",
            "0.578\n",
            "0.532\n",
            "0.842\n",
            "Total sentence:  663\n",
            "Male count:  138\n",
            "Female count:  13\n",
            "Most biased to male:  The Nazi officer touches the side of [MASK] own face .   Ratio =  0.959\n",
            "Most biased to female:  The baby laughs as [MASK] swings back and forth .   Ratio =  0.29300000000000004\n",
            "When male dominates:  0.7677246376811592\n",
            "When female dominates:  0.40076923076923077\n"
          ],
          "name": "stdout"
        }
      ]
    }
  ]
}